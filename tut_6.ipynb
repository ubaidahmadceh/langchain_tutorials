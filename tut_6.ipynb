{
 "cells": [
  {
   "cell_type": "code",
   "execution_count": 1,
   "metadata": {},
   "outputs": [],
   "source": [
    "import openai\n",
    "import langchain\n",
    "from open_ai_key import open_ai_key\n",
    "\n",
    "from langchain.chat_models import ChatOpenAI\n",
    "llm = ChatOpenAI(openai_api_key=open_ai_key)"
   ]
  },
  {
   "cell_type": "code",
   "execution_count": 2,
   "metadata": {},
   "outputs": [
    {
     "data": {
      "text/plain": [
       "'Congratulations on opening your restaurant! Here are ten menu items for fast food that you can consider for Dell Foods:\\n\\n1. Classic Cheeseburger: A juicy beef patty topped with cheese, lettuce, tomato, and special sauce on a toasted bun.\\n2. Crispy Chicken Sandwich: A crispy breaded chicken fillet served on a bun with lettuce, tomato, and mayo.\\n3. Loaded French Fries: Crispy fries topped with cheese, bacon, sour cream, and green onions.\\n4. BBQ Pulled Pork Sandwich: Slow-cooked pulled pork tossed in tangy barbecue sauce and served on a bun with coleslaw.\\n5. Veggie Burger: A flavorful vegetarian patty made with black beans, quinoa, and spices, topped with lettuce, tomato, and mayo.\\n6. Chicken Tenders: Tender, breaded chicken strips served with your choice of dipping sauce.\\n7. Grilled Chicken Wrap: Grilled chicken, lettuce, tomato, cheese, and ranch dressing wrapped in a soft tortilla.\\n8. Fish and Chips: Beer-battered fish fillets served with crispy fries and tartar sauce.\\n9. Caesar Salad: Fresh romaine lettuce tossed with Caesar dressing, croutons, and Parmesan cheese, topped with grilled chicken.\\n10. Milkshakes: Creamy and delicious milkshakes in various flavors like chocolate, vanilla, strawberry, or cookies and cream.\\n\\nRemember to consider your target audience, local preferences, and any dietary restrictions when finalizing your menu. Good luck with your restaurant!'"
      ]
     },
     "execution_count": 2,
     "metadata": {},
     "output_type": "execute_result"
    }
   ],
   "source": [
    "llm.predict(\"I am opening a resturant named Dell Foods. Please recommend me 10 menu items for fast food\")"
   ]
  },
  {
   "cell_type": "code",
   "execution_count": 3,
   "metadata": {},
   "outputs": [
    {
     "data": {
      "text/plain": [
       "'There is no known company named Dell Foods. It is possible that you may be referring to a different company or have misspelled the name. Dell Technologies, on the other hand, is a multinational technology corporation that develops, sells, repairs, and supports computers and related products and services.'"
      ]
     },
     "execution_count": 3,
     "metadata": {},
     "output_type": "execute_result"
    }
   ],
   "source": [
    "llm.predict(\"What is Dell Foods?\")"
   ]
  },
  {
   "cell_type": "markdown",
   "metadata": {},
   "source": [
    "# memory"
   ]
  },
  {
   "cell_type": "code",
   "execution_count": 4,
   "metadata": {},
   "outputs": [
    {
     "name": "stdout",
     "output_type": "stream",
     "text": [
      "\n",
      "\n",
      "\u001b[1m> Entering new ConversationChain chain...\u001b[0m\n",
      "Prompt after formatting:\n",
      "\u001b[32;1m\u001b[1;3mThe following is a friendly conversation between a human and an AI. The AI is talkative and provides lots of specific details from its context. If the AI does not know the answer to a question, it truthfully says it does not know.\n",
      "\n",
      "Current conversation:\n",
      "\n",
      "Human: I am opening a resturant named Dell Foods. Please recommend me 10 menu items for fast food\n",
      "AI:\u001b[0m\n",
      "\n",
      "\u001b[1m> Finished chain.\u001b[0m\n"
     ]
    },
    {
     "data": {
      "text/plain": [
       "\"That's great to hear! Congratulations on opening your restaurant, Dell Foods. Here are ten menu item recommendations for fast food:\\n\\n1. Classic Cheeseburger: A juicy beef patty topped with melted cheese, lettuce, tomatoes, onions, and pickles, served on a soft bun.\\n2. Crispy Chicken Sandwich: A breaded and fried chicken fillet served on a bun with mayo, lettuce, and tomato.\\n3. Loaded Nachos: Crispy tortilla chips topped with melted cheese, seasoned ground beef or chicken, jalapenos, sour cream, and guacamole.\\n4. BBQ Bacon Cheeseburger: A delicious beef patty topped with smoky barbecue sauce, crispy bacon, melted cheese, and onion rings.\\n5. Chicken Tenders: Tender and crispy chicken strips served with your choice of dipping sauce.\\n6. Veggie Burger: A flavorful plant-based patty made with vegetables, grains, and spices, served on a bun with lettuce, tomato, and your choice of toppings.\\n7. Crispy Fried Chicken Wings: Deliciously seasoned and fried chicken wings served with a variety of dipping sauces.\\n8. Loaded Fries: Crispy french fries topped with melted cheese, bacon bits, green onions, and a drizzle of ranch dressing.\\n9. Fish Tacos: Soft tortillas filled with battered and fried fish, shredded lettuce, salsa, and a tangy lime crema sauce.\\n10. Chocolate Milkshake: Creamy and indulgent, a classic chocolate milkshake made with rich chocolate ice cream and topped with whipped cream.\\n\\nThese are just a few options to consider. Feel free to mix and match based on your preferences and target audience. Let me know if you need any further assistance!\""
      ]
     },
     "execution_count": 4,
     "metadata": {},
     "output_type": "execute_result"
    }
   ],
   "source": [
    "from langchain.chains import ConversationChain\n",
    "from langchain.memory import ConversationBufferMemory\n",
    "\n",
    "memory = ConversationBufferMemory()\n",
    "conversation = ConversationChain(\n",
    "    llm=llm, \n",
    "    verbose=True,\n",
    "    memory=memory\n",
    ")\n",
    "\n",
    "conversation.predict(input=\"I am opening a resturant named Dell Foods. Please recommend me 10 menu items for fast food\")"
   ]
  },
  {
   "cell_type": "code",
   "execution_count": 5,
   "metadata": {},
   "outputs": [
    {
     "name": "stdout",
     "output_type": "stream",
     "text": [
      "\n",
      "\n",
      "\u001b[1m> Entering new ConversationChain chain...\u001b[0m\n",
      "Prompt after formatting:\n",
      "\u001b[32;1m\u001b[1;3mThe following is a friendly conversation between a human and an AI. The AI is talkative and provides lots of specific details from its context. If the AI does not know the answer to a question, it truthfully says it does not know.\n",
      "\n",
      "Current conversation:\n",
      "Human: I am opening a resturant named Dell Foods. Please recommend me 10 menu items for fast food\n",
      "AI: That's great to hear! Congratulations on opening your restaurant, Dell Foods. Here are ten menu item recommendations for fast food:\n",
      "\n",
      "1. Classic Cheeseburger: A juicy beef patty topped with melted cheese, lettuce, tomatoes, onions, and pickles, served on a soft bun.\n",
      "2. Crispy Chicken Sandwich: A breaded and fried chicken fillet served on a bun with mayo, lettuce, and tomato.\n",
      "3. Loaded Nachos: Crispy tortilla chips topped with melted cheese, seasoned ground beef or chicken, jalapenos, sour cream, and guacamole.\n",
      "4. BBQ Bacon Cheeseburger: A delicious beef patty topped with smoky barbecue sauce, crispy bacon, melted cheese, and onion rings.\n",
      "5. Chicken Tenders: Tender and crispy chicken strips served with your choice of dipping sauce.\n",
      "6. Veggie Burger: A flavorful plant-based patty made with vegetables, grains, and spices, served on a bun with lettuce, tomato, and your choice of toppings.\n",
      "7. Crispy Fried Chicken Wings: Deliciously seasoned and fried chicken wings served with a variety of dipping sauces.\n",
      "8. Loaded Fries: Crispy french fries topped with melted cheese, bacon bits, green onions, and a drizzle of ranch dressing.\n",
      "9. Fish Tacos: Soft tortillas filled with battered and fried fish, shredded lettuce, salsa, and a tangy lime crema sauce.\n",
      "10. Chocolate Milkshake: Creamy and indulgent, a classic chocolate milkshake made with rich chocolate ice cream and topped with whipped cream.\n",
      "\n",
      "These are just a few options to consider. Feel free to mix and match based on your preferences and target audience. Let me know if you need any further assistance!\n",
      "Human: What is Dell Foods?\n",
      "AI:\u001b[0m\n",
      "\n",
      "\u001b[1m> Finished chain.\u001b[0m\n"
     ]
    },
    {
     "data": {
      "text/plain": [
       "'Dell Foods is the name of the restaurant you mentioned earlier. It is the establishment you are opening.'"
      ]
     },
     "execution_count": 5,
     "metadata": {},
     "output_type": "execute_result"
    }
   ],
   "source": [
    "conversation.predict(input=\"What is Dell Foods?\")"
   ]
  }
 ],
 "metadata": {
  "kernelspec": {
   "display_name": "Python 3",
   "language": "python",
   "name": "python3"
  },
  "language_info": {
   "codemirror_mode": {
    "name": "ipython",
    "version": 3
   },
   "file_extension": ".py",
   "mimetype": "text/x-python",
   "name": "python",
   "nbconvert_exporter": "python",
   "pygments_lexer": "ipython3",
   "version": "3.11.3"
  },
  "orig_nbformat": 4
 },
 "nbformat": 4,
 "nbformat_minor": 2
}
