{
 "cells": [
  {
   "cell_type": "code",
   "execution_count": 9,
   "metadata": {},
   "outputs": [],
   "source": [
    "import openai\n",
    "import langchain\n",
    "from open_ai_key import open_ai_key\n",
    "\n",
    "from langchain.chat_models import ChatOpenAI\n",
    "llm = ChatOpenAI(openai_api_key=open_ai_key)"
   ]
  },
  {
   "cell_type": "code",
   "execution_count": 10,
   "metadata": {},
   "outputs": [
    {
     "name": "stdout",
     "output_type": "stream",
     "text": [
      "The capital of Pakistan is Islamabad.\n"
     ]
    }
   ],
   "source": [
    "print(llm.predict(\"What is the capital of Pakistan?\"))"
   ]
  },
  {
   "cell_type": "code",
   "execution_count": 13,
   "metadata": {},
   "outputs": [
    {
     "name": "stdout",
     "output_type": "stream",
     "text": [
      "[SystemMessage(content='You are a good historian', additional_kwargs={}), HumanMessage(content='Who was Nepolian', additional_kwargs={}, example=False)]\n"
     ]
    }
   ],
   "source": [
    "# I will specify my AI as a good historian and then  will ask something about history.\n",
    "\n",
    "from langchain.schema import HumanMessage \n",
    "from langchain.schema import SystemMessage\n",
    "\n",
    "system_message = \"You are a good historian\"\n",
    "human_message = \"Who was Nepolian\"\n",
    "messages = [SystemMessage(content=system_message), HumanMessage(content=human_message)]\n",
    "\n",
    "print(messages)"
   ]
  },
  {
   "cell_type": "code",
   "execution_count": 14,
   "metadata": {},
   "outputs": [
    {
     "name": "stdout",
     "output_type": "stream",
     "text": [
      "content=\"Napoleon Bonaparte, commonly known as Napoleon, was a French military and political leader who rose to prominence during the French Revolution. He was born on August 15, 1769, on the island of Corsica, which was then a French territory. Napoleon is best known for his role as Emperor of the French from 1804 to 1814 and again briefly in 1815. He established a vast empire across Europe, implementing significant political and legal reforms in the territories under his control.\\n\\nNapoleon's military genius and ambition allowed him to conquer much of continental Europe, including France itself, Italy, Spain, and parts of Germany. His innovative military strategies, such as the use of artillery and swift maneuvering, earned him numerous victories on the battlefield. However, his empire faced significant opposition from other European powers, leading to a series of wars known as the Napoleonic Wars.\\n\\nIn addition to his military achievements, Napoleon implemented a series of reforms in France known as the Napoleonic Code. This legal system sought to streamline and codify French laws, providing a more uniform and equal system of justice. His reforms also included improvements to education, infrastructure, and the economy.\\n\\nNapoleon's reign eventually came to an end in 1814 when a coalition of European powers defeated him and forced him to abdicate. He was exiled to the island of Elba but managed to escape and briefly regained power in 1815 during the period known as the Hundred Days. However, he was defeated at the Battle of Waterloo and was subsequently exiled to the remote island of Saint Helena in the South Atlantic. Napoleon died there on May 5, 1821, at the age of 51.\\n\\nThroughout history, Napoleon has been a subject of fascination and debate. Some view him as a brilliant military strategist and a visionary leader who brought stability and progress to France, while others criticize his imperial ambitions and the cost in human lives during his wars. Regardless of one's opinion, Napoleon's impact on Europe and the world cannot be denied, and he remains one of the most influential figures in history.\" additional_kwargs={} example=False\n"
     ]
    }
   ],
   "source": [
    "print(llm.predict_messages(messages))"
   ]
  },
  {
   "cell_type": "code",
   "execution_count": 15,
   "metadata": {},
   "outputs": [
    {
     "data": {
      "text/plain": [
       "AIMessage(content=\"Napoleon Bonaparte, commonly known as Napoleon, was a French military and political leader who rose to prominence during the French Revolution. He was born on August 15, 1769, in Corsica, which was then a French territory. Napoleon became a successful general and eventually seized power in a coup d'état in 1799, establishing himself as First Consul of the French Republic. In 1804, he crowned himself Emperor of the French and embarked on a series of military campaigns, known as the Napoleonic Wars, which reshaped Europe. Despite his military genius and numerous victories, he faced defeat in 1814 and was exiled to the island of Elba. He briefly returned to power in 1815 but was defeated at the Battle of Waterloo, leading to his final exile on the island of Saint Helena, where he died on May 5, 1821. Napoleon's impact on history is vast, with his legal and administrative reforms, military strategies, and ambition leaving a lasting legacy in Europe and beyond.\", additional_kwargs={}, example=False)"
      ]
     },
     "execution_count": 15,
     "metadata": {},
     "output_type": "execute_result"
    }
   ],
   "source": [
    "output_from_ai = llm.predict_messages(messages)\n",
    "output_from_ai"
   ]
  }
 ],
 "metadata": {
  "kernelspec": {
   "display_name": "Python 3",
   "language": "python",
   "name": "python3"
  },
  "language_info": {
   "codemirror_mode": {
    "name": "ipython",
    "version": 3
   },
   "file_extension": ".py",
   "mimetype": "text/x-python",
   "name": "python",
   "nbconvert_exporter": "python",
   "pygments_lexer": "ipython3",
   "version": "3.11.3"
  },
  "orig_nbformat": 4
 },
 "nbformat": 4,
 "nbformat_minor": 2
}
