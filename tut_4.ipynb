{
 "cells": [
  {
   "cell_type": "code",
   "execution_count": 10,
   "metadata": {},
   "outputs": [],
   "source": [
    "import openai\n",
    "import langchain\n",
    "from open_ai_key import open_ai_key\n",
    "\n",
    "from langchain.chat_models import ChatOpenAI\n",
    "llm = ChatOpenAI(openai_api_key=open_ai_key)"
   ]
  },
  {
   "cell_type": "code",
   "execution_count": 13,
   "metadata": {},
   "outputs": [
    {
     "name": "stdout",
     "output_type": "stream",
     "text": [
      "\n",
      "\n",
      "\u001b[1m> Entering new LLMChain chain...\u001b[0m\n",
      "Prompt after formatting:\n",
      "\u001b[32;1m\u001b[1;3mWhat is the capital of Pakistan?\u001b[0m\n",
      "\n",
      "\u001b[1m> Finished chain.\u001b[0m\n",
      "The capital of Pakistan is Islamabad.\n"
     ]
    }
   ],
   "source": [
    "from langchain.prompts import PromptTemplate\n",
    "\n",
    "prompt = PromptTemplate(\n",
    "    input_variables=[\"country\"],\n",
    "    template=\"What is the capital of {country}?\",\n",
    ")\n",
    "\n",
    "from langchain.chains import LLMChain\n",
    "chain = LLMChain(llm=llm, prompt=prompt, verbose=True)\n",
    "\n",
    "# Run the chain only specifying the input variable.\n",
    "print(chain.run(\"Pakistan\"))"
   ]
  },
  {
   "cell_type": "code",
   "execution_count": 14,
   "metadata": {},
   "outputs": [],
   "source": [
    "from langchain.prompts import PromptTemplate\n",
    "\n",
    "prompt = PromptTemplate(\n",
    "    input_variables=[\"country\"],\n",
    "    template=\"What is the capital of {country}?\",\n",
    ")\n",
    "\n",
    "from langchain.chains import LLMChain\n",
    "capital_chain = LLMChain(llm=llm, prompt=prompt, verbose=True, output_key=\"capital\")"
   ]
  },
  {
   "cell_type": "code",
   "execution_count": 15,
   "metadata": {},
   "outputs": [],
   "source": [
    "from langchain.prompts import PromptTemplate\n",
    "\n",
    "prompt = PromptTemplate(\n",
    "    input_variables=[\"capital\"],\n",
    "    template=\"What are top 10 places of this capital city: {capital}?\",\n",
    ")\n",
    "\n",
    "from langchain.chains import LLMChain\n",
    "places_chain = LLMChain(llm=llm, prompt=prompt, verbose=True, output_key=\"places\")"
   ]
  },
  {
   "cell_type": "code",
   "execution_count": 17,
   "metadata": {},
   "outputs": [
    {
     "name": "stdout",
     "output_type": "stream",
     "text": [
      "\n",
      "\n",
      "\u001b[1m> Entering new SequentialChain chain...\u001b[0m\n",
      "\n",
      "\n",
      "\u001b[1m> Entering new LLMChain chain...\u001b[0m\n",
      "Prompt after formatting:\n",
      "\u001b[32;1m\u001b[1;3mWhat is the capital of Pakistan?\u001b[0m\n",
      "\n",
      "\u001b[1m> Finished chain.\u001b[0m\n",
      "\n",
      "\n",
      "\u001b[1m> Entering new LLMChain chain...\u001b[0m\n",
      "Prompt after formatting:\n",
      "\u001b[32;1m\u001b[1;3mWhat are top 10 places of this capital city: The capital of Pakistan is Islamabad.?\u001b[0m\n",
      "\n",
      "\u001b[1m> Finished chain.\u001b[0m\n",
      "\n",
      "\u001b[1m> Finished chain.\u001b[0m\n"
     ]
    },
    {
     "data": {
      "text/plain": [
       "{'country': 'Pakistan',\n",
       " 'capital': 'The capital of Pakistan is Islamabad.',\n",
       " 'places': \"1. Faisal Mosque: The iconic Faisal Mosque is the largest mosque in South Asia and one of the most popular tourist attractions in Islamabad.\\n2. Pakistan Monument: This national symbol of Pakistan represents the unity and diversity of the nation and offers stunning views of the city.\\n3. Rawal Lake: Located on the outskirts of Islamabad, Rawal Lake is a serene spot where visitors can enjoy boating, picnicking, and bird-watching.\\n4. Lok Virsa Museum: This museum showcases the rich cultural heritage of Pakistan, housing a vast collection of traditional crafts, music, and art.\\n5. Daman-e-Koh: Situated in the Margalla Hills, Daman-e-Koh is a viewpoint that provides breathtaking panoramic views of Islamabad.\\n6. Saidpur Village: A charming village on the outskirts of the city, Saidpur Village is known for its historical significance, traditional architecture, and handicrafts.\\n7. Margalla Hills National Park: This protected area is a haven for nature lovers, offering hiking trails, wildlife spotting, and stunning vistas of the city.\\n8. Shakarparian Park: Located near the Pakistan Monument, this park features beautiful gardens, recreational areas, and a hilltop viewpoint.\\n9. Centaurus Mall: As one of Islamabad's premier shopping destinations, Centaurus Mall offers a wide range of international and local brands, dining options, and entertainment facilities.\\n10. Islamabad Zoo: Home to a diverse collection of animals, including lions, elephants, and birds, the Islamabad Zoo is a popular spot for families and animal enthusiasts.\"}"
      ]
     },
     "execution_count": 17,
     "metadata": {},
     "output_type": "execute_result"
    }
   ],
   "source": [
    "# This is the overall chain where we run these two chains in sequence.\n",
    "from langchain.chains import SequentialChain\n",
    "overall_chain = SequentialChain(\n",
    "    chains=[capital_chain, places_chain],\n",
    "    input_variables=[\"country\"],\n",
    "    # Here we return multiple variables\n",
    "    output_variables=[\"capital\", \"places\"],\n",
    "    verbose=True)\n",
    "\n",
    "output_from_ai = overall_chain({\"country\":\"Pakistan\"})"
   ]
  }
 ],
 "metadata": {
  "kernelspec": {
   "display_name": "Python 3",
   "language": "python",
   "name": "python3"
  },
  "language_info": {
   "codemirror_mode": {
    "name": "ipython",
    "version": 3
   },
   "file_extension": ".py",
   "mimetype": "text/x-python",
   "name": "python",
   "nbconvert_exporter": "python",
   "pygments_lexer": "ipython3",
   "version": "3.11.3"
  },
  "orig_nbformat": 4
 },
 "nbformat": 4,
 "nbformat_minor": 2
}
