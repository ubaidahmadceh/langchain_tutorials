{
 "cells": [
  {
   "cell_type": "code",
   "execution_count": 13,
   "metadata": {},
   "outputs": [],
   "source": [
    "import openai\n",
    "import langchain\n",
    "from open_ai_key import open_ai_key\n",
    "\n",
    "from langchain.chat_models import ChatOpenAI\n",
    "llm = ChatOpenAI(openai_api_key=open_ai_key)"
   ]
  },
  {
   "cell_type": "code",
   "execution_count": null,
   "metadata": {},
   "outputs": [],
   "source": [
    "# I opened a restaurant and now I want my llm to tell 10 items for fast food and 10 items for starters"
   ]
  },
  {
   "cell_type": "code",
   "execution_count": 16,
   "metadata": {},
   "outputs": [
    {
     "name": "stdout",
     "output_type": "stream",
     "text": [
      "The output should be a markdown code snippet formatted in the following schema, including the leading and trailing \"\\`\\`\\`json\" and \"\\`\\`\\`\":\n",
      "\n",
      "```json\n",
      "{\n",
      "\t\"fast_food\": string  // this will be a comma seperated list of 10 fast food items (Only items names)\n",
      "\t\"starters\": string  // this will be a comma seperated list of 10 starters items (Only items names)\n",
      "}\n",
      "```\n"
     ]
    }
   ],
   "source": [
    "from langchain.output_parsers import StructuredOutputParser, ResponseSchema\n",
    "\n",
    "response_schemas = [\n",
    "    ResponseSchema(name=\"fast_food\", description=\"this will be a comma seperated list of 10 fast food items (Only items names)\"),\n",
    "\n",
    "    ResponseSchema(name=\"starters\", description=\"this will be a comma seperated list of 10 starters items (Only items names)\")\n",
    "]\n",
    "output_parser = StructuredOutputParser.from_response_schemas(response_schemas)\n",
    "\n",
    "format_instructions = output_parser.get_format_instructions()\n",
    "\n",
    "print(format_instructions)"
   ]
  },
  {
   "cell_type": "code",
   "execution_count": 17,
   "metadata": {},
   "outputs": [
    {
     "data": {
      "text/plain": [
       "'```json\\n{\\n\\t\"fast_food\": \"Cheeseburger, French fries, Chicken nuggets, Pizza, Hot dog, Tacos, Fried chicken, Fish and chips, Burrito, Nachos\",\\n\\t\"starters\": \"Caesar salad, Bruschetta, Onion rings, Mozzarella sticks, Chicken wings, Garlic bread, Spring rolls, Buffalo wings, Prawn cocktail, Potato skins\"\\n}\\n```'"
      ]
     },
     "execution_count": 17,
     "metadata": {},
     "output_type": "execute_result"
    }
   ],
   "source": [
    "prompt = f\"I am opening a restaurant named Dell Foods. Please recommend me some menu items. {format_instructions}\"\n",
    "\n",
    "response = llm.predict(prompt)\n",
    "\n",
    "response"
   ]
  },
  {
   "cell_type": "code",
   "execution_count": 18,
   "metadata": {},
   "outputs": [
    {
     "name": "stdout",
     "output_type": "stream",
     "text": [
      "```json\n",
      "{\n",
      "\t\"fast_food\": \"Cheeseburger, French fries, Chicken nuggets, Pizza, Hot dog, Tacos, Fried chicken, Fish and chips, Burrito, Nachos\",\n",
      "\t\"starters\": \"Caesar salad, Bruschetta, Onion rings, Mozzarella sticks, Chicken wings, Garlic bread, Spring rolls, Buffalo wings, Prawn cocktail, Potato skins\"\n",
      "}\n",
      "```\n"
     ]
    }
   ],
   "source": [
    "print(response)"
   ]
  },
  {
   "cell_type": "code",
   "execution_count": 19,
   "metadata": {},
   "outputs": [
    {
     "data": {
      "text/plain": [
       "{'fast_food': 'Cheeseburger, French fries, Chicken nuggets, Pizza, Hot dog, Tacos, Fried chicken, Fish and chips, Burrito, Nachos',\n",
       " 'starters': 'Caesar salad, Bruschetta, Onion rings, Mozzarella sticks, Chicken wings, Garlic bread, Spring rolls, Buffalo wings, Prawn cocktail, Potato skins'}"
      ]
     },
     "execution_count": 19,
     "metadata": {},
     "output_type": "execute_result"
    }
   ],
   "source": [
    "response_as_dict = output_parser.parse(response)\n",
    "response_as_dict"
   ]
  },
  {
   "cell_type": "code",
   "execution_count": 21,
   "metadata": {},
   "outputs": [
    {
     "data": {
      "text/plain": [
       "'Caesar salad, Bruschetta, Onion rings, Mozzarella sticks, Chicken wings, Garlic bread, Spring rolls, Buffalo wings, Prawn cocktail, Potato skins'"
      ]
     },
     "execution_count": 21,
     "metadata": {},
     "output_type": "execute_result"
    }
   ],
   "source": [
    "response_as_dict[\"starters\"]"
   ]
  }
 ],
 "metadata": {
  "kernelspec": {
   "display_name": "Python 3",
   "language": "python",
   "name": "python3"
  },
  "language_info": {
   "codemirror_mode": {
    "name": "ipython",
    "version": 3
   },
   "file_extension": ".py",
   "mimetype": "text/x-python",
   "name": "python",
   "nbconvert_exporter": "python",
   "pygments_lexer": "ipython3",
   "version": "3.11.3"
  },
  "orig_nbformat": 4
 },
 "nbformat": 4,
 "nbformat_minor": 2
}
